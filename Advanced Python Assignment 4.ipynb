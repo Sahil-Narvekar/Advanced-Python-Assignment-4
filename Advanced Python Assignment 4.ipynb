{
 "cells": [
  {
   "cell_type": "code",
   "execution_count": null,
   "metadata": {},
   "outputs": [],
   "source": [
    "Q1. Which two operator overloading methods can you use in your classes to support iteration?"
   ]
  },
  {
   "cell_type": "code",
   "execution_count": null,
   "metadata": {},
   "outputs": [],
   "source": [
    "We can use binary operator + which is oveloaded.The operation that willl be performed by operator will\n",
    "depend on type of operands.\n",
    "The special method corresponding to the + operator is the __add__() method. Adding a custom definition\n",
    "of __add__() changes the behavior of the operator.\n",
    "__iadd__ for += can be used as can be seen it operates differently for strings and integers."
   ]
  },
  {
   "cell_type": "code",
   "execution_count": 10,
   "metadata": {},
   "outputs": [
    {
     "name": "stdout",
     "output_type": "stream",
     "text": [
      "sn 15 10 sahil\n"
     ]
    }
   ],
   "source": [
    "a='s'+'n'\n",
    "b=5+10\n",
    "k=''\n",
    "l=0\n",
    "for j in range(5):\n",
    "    l+=j\n",
    "    \n",
    "for j in 'sahil':\n",
    "    k+=j\n",
    "print(a,b,l,k)\n",
    "    "
   ]
  },
  {
   "cell_type": "code",
   "execution_count": null,
   "metadata": {},
   "outputs": [],
   "source": [
    "We can change cutom built in functions like  len() so as to use it according to our convenience."
   ]
  },
  {
   "cell_type": "code",
   "execution_count": 4,
   "metadata": {},
   "outputs": [
    {
     "ename": "TypeError",
     "evalue": "object of type 'Purchase' has no len()",
     "output_type": "error",
     "traceback": [
      "\u001b[1;31m---------------------------------------------------------------------------\u001b[0m",
      "\u001b[1;31mTypeError\u001b[0m                                 Traceback (most recent call last)",
      "\u001b[1;32m<ipython-input-4-abb4283a20fb>\u001b[0m in \u001b[0;36m<module>\u001b[1;34m\u001b[0m\n\u001b[0;32m      5\u001b[0m \u001b[1;33m\u001b[0m\u001b[0m\n\u001b[0;32m      6\u001b[0m \u001b[0mpurchase\u001b[0m \u001b[1;33m=\u001b[0m \u001b[0mPurchase\u001b[0m\u001b[1;33m(\u001b[0m\u001b[1;33m[\u001b[0m\u001b[1;34m'pen'\u001b[0m\u001b[1;33m,\u001b[0m \u001b[1;34m'book'\u001b[0m\u001b[1;33m,\u001b[0m \u001b[1;34m'pencil'\u001b[0m\u001b[1;33m]\u001b[0m\u001b[1;33m,\u001b[0m \u001b[1;34m'Python'\u001b[0m\u001b[1;33m)\u001b[0m\u001b[1;33m\u001b[0m\u001b[1;33m\u001b[0m\u001b[0m\n\u001b[1;32m----> 7\u001b[1;33m \u001b[0mprint\u001b[0m\u001b[1;33m(\u001b[0m\u001b[0mlen\u001b[0m\u001b[1;33m(\u001b[0m\u001b[0mpurchase\u001b[0m\u001b[1;33m)\u001b[0m\u001b[1;33m)\u001b[0m\u001b[1;33m\u001b[0m\u001b[1;33m\u001b[0m\u001b[0m\n\u001b[0m",
      "\u001b[1;31mTypeError\u001b[0m: object of type 'Purchase' has no len()"
     ]
    }
   ],
   "source": [
    "class Purchase:\n",
    "    def __init__(self, basket, buyer):\n",
    "        self.basket = list(basket)\n",
    "        self.buyer = buyer\n",
    "\n",
    "purchase = Purchase(['pen', 'book', 'pencil'], 'Python')\n",
    "print(len(purchase))"
   ]
  },
  {
   "cell_type": "code",
   "execution_count": null,
   "metadata": {},
   "outputs": [],
   "source": [
    "Python expects the len() function to return an integer, hence this should be put into consideration when\n",
    "overloading the function. If your overloaded function is expected to return anything else other than an \n",
    "integer, you will get a TypeError."
   ]
  },
  {
   "cell_type": "code",
   "execution_count": 5,
   "metadata": {},
   "outputs": [
    {
     "name": "stdout",
     "output_type": "stream",
     "text": [
      "3\n"
     ]
    }
   ],
   "source": [
    "class Purchase:\n",
    "    def __init__(self, basket, buyer):\n",
    "        self.basket = list(basket)\n",
    "        self.buyer = buyer\n",
    "\n",
    "    def __len__(self):\n",
    "        return len(self.basket)\n",
    "\n",
    "purchase = Purchase(['pen', 'book', 'pencil'], 'Python')\n",
    "print(len(purchase))"
   ]
  },
  {
   "cell_type": "code",
   "execution_count": null,
   "metadata": {},
   "outputs": [],
   "source": [
    "To change how the len() function behaves, we defined a special method named _len_() in our class. Anytime\n",
    "we pass an object of our class to len(), the result will be obtained by calling our custom defined function\n",
    ", that is, _len_().\n",
    "The output shows that we are able to use len() to get the length of the basket."
   ]
  },
  {
   "cell_type": "code",
   "execution_count": null,
   "metadata": {},
   "outputs": [],
   "source": [
    "Q2. In what contexts do the two operator overloading methods manage printing?"
   ]
  },
  {
   "cell_type": "code",
   "execution_count": null,
   "metadata": {},
   "outputs": [],
   "source": []
  },
  {
   "cell_type": "code",
   "execution_count": null,
   "metadata": {},
   "outputs": [],
   "source": [
    "Q3. In a class, how do you intercept slice operations?"
   ]
  },
  {
   "cell_type": "code",
   "execution_count": null,
   "metadata": {},
   "outputs": [],
   "source": [
    "slice is a constructor in Python that creates slice object to represent set of indices that the \n",
    "range(start, stop, step) specifies. __getitem__ method can be implement in a class, and the behavior of \n",
    "bslicing can be defined inside it."
   ]
  },
  {
   "cell_type": "code",
   "execution_count": 26,
   "metadata": {},
   "outputs": [
    {
     "name": "stdout",
     "output_type": "stream",
     "text": [
      "1\n",
      "(1, 2)\n",
      "(1, 2, 3)\n",
      "slice(1, None, None)\n",
      "slice(1, 2, None)\n",
      "slice(3, 2, None)\n",
      "slice(1, 2, 3)\n"
     ]
    },
    {
     "data": {
      "text/plain": [
       "slice(1, 2, 3)"
      ]
     },
     "execution_count": 26,
     "metadata": {},
     "output_type": "execute_result"
    }
   ],
   "source": [
    "class Demo:\n",
    "    def __getitem__(self, key):  \n",
    "        print(key)\n",
    "        return key\n",
    "a = Demo()\n",
    "a[1]\n",
    "a[1, 2]\n",
    "a[1,2, 3]\n",
    "a[1:]\n",
    "a[1:2]\n",
    "a[3:2]\n",
    "a[1:2:3]"
   ]
  },
  {
   "cell_type": "code",
   "execution_count": null,
   "metadata": {},
   "outputs": [],
   "source": [
    "The class demo has the __getitem__ method, slicing is comma-separated. Key prints the sliced object which \n",
    "is passed in class through variable a."
   ]
  },
  {
   "cell_type": "code",
   "execution_count": null,
   "metadata": {},
   "outputs": [],
   "source": [
    "false=True\n",
    "while false:\n",
    "    print(5)"
   ]
  },
  {
   "cell_type": "code",
   "execution_count": null,
   "metadata": {},
   "outputs": [],
   "source": [
    "Q4. In a class, how do you capture in-place addition?"
   ]
  },
  {
   "cell_type": "code",
   "execution_count": null,
   "metadata": {},
   "outputs": [],
   "source": [
    "In-place operation is an operation that changes directly the content of a given linear algebra, vector,\n",
    "matrices(Tensor) without making a copy. The operators which helps to do the operation is called in-place \n",
    "operator.\n",
    "Eg: a+= b is equivalent to a= operator.iadd(a, b)\n"
   ]
  },
  {
   "cell_type": "code",
   "execution_count": 12,
   "metadata": {},
   "outputs": [
    {
     "name": "stdout",
     "output_type": "stream",
     "text": [
      "l= 15 m= -5 y= 1200\n"
     ]
    }
   ],
   "source": [
    "k=''\n",
    "l=0\n",
    "m=10\n",
    "y=10\n",
    "for j in range(1,6):\n",
    "    l+=j#this is used for in place addition\n",
    "    m-=j\n",
    "    y*=j\n",
    "    \n",
    "for j in 'sahil':\n",
    "    k+=j\n",
    "print('l=',l,'m=',m,'y=',y)"
   ]
  },
  {
   "cell_type": "code",
   "execution_count": null,
   "metadata": {},
   "outputs": [],
   "source": [
    "Q5. When is it appropriate to use operator overloading?"
   ]
  },
  {
   "cell_type": "code",
   "execution_count": null,
   "metadata": {},
   "outputs": [],
   "source": [
    " This feature in Python that allows the same operator to have different meaning according to the context,\n",
    "    that is operator overloading can be used to make the program more intuitive.\n",
    "Overloading a method fosters reusability. For instance, instead of writing multiple methods that differ \n",
    "only slightly, we can write one method and overload it. Overloading also improves code clarity and \n",
    "eliminates complexity. It is also used for reusability.\n",
    "Example adding integers and strings is done by overloading  + sign since it is more intuitive."
   ]
  },
  {
   "cell_type": "code",
   "execution_count": 15,
   "metadata": {},
   "outputs": [
    {
     "data": {
      "text/plain": [
       "(11, 'pl')"
      ]
     },
     "execution_count": 15,
     "metadata": {},
     "output_type": "execute_result"
    }
   ],
   "source": [
    "x=5+6\n",
    "z='p'+'l'\n",
    "x,z"
   ]
  },
  {
   "cell_type": "code",
   "execution_count": 30,
   "metadata": {},
   "outputs": [],
   "source": [
    "class gone:\n",
    "    def __init__(self,x,y):\n",
    "        self.x=x\n",
    "        self.y=y\n",
    "    def __add__(self,others):\n",
    "        z=self.x*self.y+others.x*others.y\n",
    "        return z\n",
    "    "
   ]
  },
  {
   "cell_type": "code",
   "execution_count": 31,
   "metadata": {},
   "outputs": [
    {
     "data": {
      "text/plain": [
       "32"
      ]
     },
     "execution_count": 31,
     "metadata": {},
     "output_type": "execute_result"
    }
   ],
   "source": [
    "g=gone(5,6)\n",
    "k=gone(2,1)\n",
    "b=k+g\n",
    "b"
   ]
  },
  {
   "cell_type": "code",
   "execution_count": null,
   "metadata": {},
   "outputs": [],
   "source": []
  }
 ],
 "metadata": {
  "kernelspec": {
   "display_name": "Python 3",
   "language": "python",
   "name": "python3"
  },
  "language_info": {
   "codemirror_mode": {
    "name": "ipython",
    "version": 3
   },
   "file_extension": ".py",
   "mimetype": "text/x-python",
   "name": "python",
   "nbconvert_exporter": "python",
   "pygments_lexer": "ipython3",
   "version": "3.8.3"
  }
 },
 "nbformat": 4,
 "nbformat_minor": 4
}
